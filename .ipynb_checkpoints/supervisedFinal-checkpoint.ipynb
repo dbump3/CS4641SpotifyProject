{
 "cells": [
  {
   "cell_type": "code",
   "execution_count": 139,
   "metadata": {},
   "outputs": [],
   "source": [
    "import os\n",
    "import pandas as pd\n",
    "import numpy as np\n",
    "import datetime\n",
    "import matplotlib.pyplot as plt\n",
    "import seaborn as sns\n",
    "%matplotlib inline\n",
    "from IPython.display import Image, HTML\n",
    "from plotnine import *\n",
    "import pydot\n",
    "from plotnine import *\n",
    "from tqdm import tqdm\n",
    "\n",
    "# For transformations and predictions\n",
    "from scipy.optimize import curve_fit\n",
    "from sklearn.preprocessing import FunctionTransformer\n",
    "from sklearn.preprocessing import OneHotEncoder\n",
    "from sklearn.preprocessing import MinMaxScaler\n",
    "from sklearn.linear_model import LinearRegression\n",
    "from sklearn.neighbors import KNeighborsRegressor\n",
    "from sklearn.metrics import pairwise_distances\n",
    "from sklearn.tree import DecisionTreeRegressor, export_graphviz\n",
    "from six import StringIO\n",
    "\n",
    "\n",
    "from sklearn.metrics import mean_squared_error as mse\n",
    "\n",
    "# vlidating\n",
    "from sklearn.model_selection import train_test_split as split"
   ]
  },
  {
   "cell_type": "code",
   "execution_count": 140,
   "metadata": {},
   "outputs": [
    {
     "data": {
      "text/html": [
       "<div>\n",
       "<style scoped>\n",
       "    .dataframe tbody tr th:only-of-type {\n",
       "        vertical-align: middle;\n",
       "    }\n",
       "\n",
       "    .dataframe tbody tr th {\n",
       "        vertical-align: top;\n",
       "    }\n",
       "\n",
       "    .dataframe thead th {\n",
       "        text-align: right;\n",
       "    }\n",
       "</style>\n",
       "<table border=\"1\" class=\"dataframe\">\n",
       "  <thead>\n",
       "    <tr style=\"text-align: right;\">\n",
       "      <th></th>\n",
       "      <th>acousticness</th>\n",
       "      <th>artists</th>\n",
       "      <th>danceability</th>\n",
       "      <th>duration_ms</th>\n",
       "      <th>energy</th>\n",
       "      <th>explicit</th>\n",
       "      <th>id</th>\n",
       "      <th>instrumentalness</th>\n",
       "      <th>key</th>\n",
       "      <th>liveness</th>\n",
       "      <th>loudness</th>\n",
       "      <th>mode</th>\n",
       "      <th>name</th>\n",
       "      <th>popularity</th>\n",
       "      <th>release_date</th>\n",
       "      <th>speechiness</th>\n",
       "      <th>tempo</th>\n",
       "      <th>valence</th>\n",
       "      <th>year</th>\n",
       "    </tr>\n",
       "  </thead>\n",
       "  <tbody>\n",
       "    <tr>\n",
       "      <th>0</th>\n",
       "      <td>0.995</td>\n",
       "      <td>['Carl Woitschach']</td>\n",
       "      <td>0.708</td>\n",
       "      <td>158648</td>\n",
       "      <td>0.1950</td>\n",
       "      <td>0</td>\n",
       "      <td>6KbQ3uYMLKb5jDxLF7wYDD</td>\n",
       "      <td>0.563</td>\n",
       "      <td>10</td>\n",
       "      <td>0.1510</td>\n",
       "      <td>-12.428</td>\n",
       "      <td>1</td>\n",
       "      <td>Singende Bataillone 1. Teil</td>\n",
       "      <td>0</td>\n",
       "      <td>1928</td>\n",
       "      <td>0.0506</td>\n",
       "      <td>118.469</td>\n",
       "      <td>0.7790</td>\n",
       "      <td>1928</td>\n",
       "    </tr>\n",
       "    <tr>\n",
       "      <th>1</th>\n",
       "      <td>0.994</td>\n",
       "      <td>['Robert Schumann', 'Vladimir Horowitz']</td>\n",
       "      <td>0.379</td>\n",
       "      <td>282133</td>\n",
       "      <td>0.0135</td>\n",
       "      <td>0</td>\n",
       "      <td>6KuQTIu1KoTTkLXKrwlLPV</td>\n",
       "      <td>0.901</td>\n",
       "      <td>8</td>\n",
       "      <td>0.0763</td>\n",
       "      <td>-28.454</td>\n",
       "      <td>1</td>\n",
       "      <td>Fantasiestücke, Op. 111: Più tosto lento</td>\n",
       "      <td>0</td>\n",
       "      <td>1928</td>\n",
       "      <td>0.0462</td>\n",
       "      <td>83.972</td>\n",
       "      <td>0.0767</td>\n",
       "      <td>1928</td>\n",
       "    </tr>\n",
       "    <tr>\n",
       "      <th>2</th>\n",
       "      <td>0.604</td>\n",
       "      <td>['Seweryn Goszczyński']</td>\n",
       "      <td>0.749</td>\n",
       "      <td>104300</td>\n",
       "      <td>0.2200</td>\n",
       "      <td>0</td>\n",
       "      <td>6L63VW0PibdM1HDSBoqnoM</td>\n",
       "      <td>0.000</td>\n",
       "      <td>5</td>\n",
       "      <td>0.1190</td>\n",
       "      <td>-19.924</td>\n",
       "      <td>0</td>\n",
       "      <td>Chapter 1.18 - Zamek kaniowski</td>\n",
       "      <td>0</td>\n",
       "      <td>1928</td>\n",
       "      <td>0.9290</td>\n",
       "      <td>107.177</td>\n",
       "      <td>0.8800</td>\n",
       "      <td>1928</td>\n",
       "    </tr>\n",
       "    <tr>\n",
       "      <th>3</th>\n",
       "      <td>0.995</td>\n",
       "      <td>['Francisco Canaro']</td>\n",
       "      <td>0.781</td>\n",
       "      <td>180760</td>\n",
       "      <td>0.1300</td>\n",
       "      <td>0</td>\n",
       "      <td>6M94FkXd15sOAOQYRnWPN8</td>\n",
       "      <td>0.887</td>\n",
       "      <td>1</td>\n",
       "      <td>0.1110</td>\n",
       "      <td>-14.734</td>\n",
       "      <td>0</td>\n",
       "      <td>Bebamos Juntos - Instrumental (Remasterizado)</td>\n",
       "      <td>0</td>\n",
       "      <td>1928-09-25</td>\n",
       "      <td>0.0926</td>\n",
       "      <td>108.003</td>\n",
       "      <td>0.7200</td>\n",
       "      <td>1928</td>\n",
       "    </tr>\n",
       "    <tr>\n",
       "      <th>4</th>\n",
       "      <td>0.990</td>\n",
       "      <td>['Frédéric Chopin', 'Vladimir Horowitz']</td>\n",
       "      <td>0.210</td>\n",
       "      <td>687733</td>\n",
       "      <td>0.2040</td>\n",
       "      <td>0</td>\n",
       "      <td>6N6tiFZ9vLTSOIxkj8qKrd</td>\n",
       "      <td>0.908</td>\n",
       "      <td>11</td>\n",
       "      <td>0.0980</td>\n",
       "      <td>-16.829</td>\n",
       "      <td>1</td>\n",
       "      <td>Polonaise-Fantaisie in A-Flat Major, Op. 61</td>\n",
       "      <td>1</td>\n",
       "      <td>1928</td>\n",
       "      <td>0.0424</td>\n",
       "      <td>62.149</td>\n",
       "      <td>0.0693</td>\n",
       "      <td>1928</td>\n",
       "    </tr>\n",
       "  </tbody>\n",
       "</table>\n",
       "</div>"
      ],
      "text/plain": [
       "   acousticness                                   artists  danceability  \\\n",
       "0         0.995                       ['Carl Woitschach']         0.708   \n",
       "1         0.994  ['Robert Schumann', 'Vladimir Horowitz']         0.379   \n",
       "2         0.604                   ['Seweryn Goszczyński']         0.749   \n",
       "3         0.995                      ['Francisco Canaro']         0.781   \n",
       "4         0.990  ['Frédéric Chopin', 'Vladimir Horowitz']         0.210   \n",
       "\n",
       "   duration_ms  energy  explicit                      id  instrumentalness  \\\n",
       "0       158648  0.1950         0  6KbQ3uYMLKb5jDxLF7wYDD             0.563   \n",
       "1       282133  0.0135         0  6KuQTIu1KoTTkLXKrwlLPV             0.901   \n",
       "2       104300  0.2200         0  6L63VW0PibdM1HDSBoqnoM             0.000   \n",
       "3       180760  0.1300         0  6M94FkXd15sOAOQYRnWPN8             0.887   \n",
       "4       687733  0.2040         0  6N6tiFZ9vLTSOIxkj8qKrd             0.908   \n",
       "\n",
       "   key  liveness  loudness  mode  \\\n",
       "0   10    0.1510   -12.428     1   \n",
       "1    8    0.0763   -28.454     1   \n",
       "2    5    0.1190   -19.924     0   \n",
       "3    1    0.1110   -14.734     0   \n",
       "4   11    0.0980   -16.829     1   \n",
       "\n",
       "                                            name  popularity release_date  \\\n",
       "0                    Singende Bataillone 1. Teil           0         1928   \n",
       "1       Fantasiestücke, Op. 111: Più tosto lento           0         1928   \n",
       "2                 Chapter 1.18 - Zamek kaniowski           0         1928   \n",
       "3  Bebamos Juntos - Instrumental (Remasterizado)           0   1928-09-25   \n",
       "4    Polonaise-Fantaisie in A-Flat Major, Op. 61           1         1928   \n",
       "\n",
       "   speechiness    tempo  valence  year  \n",
       "0       0.0506  118.469   0.7790  1928  \n",
       "1       0.0462   83.972   0.0767  1928  \n",
       "2       0.9290  107.177   0.8800  1928  \n",
       "3       0.0926  108.003   0.7200  1928  \n",
       "4       0.0424   62.149   0.0693  1928  "
      ]
     },
     "execution_count": 140,
     "metadata": {},
     "output_type": "execute_result"
    }
   ],
   "source": [
    "path = 'data.csv'\n",
    "df = pd.read_csv(path)\n",
    "df.head()"
   ]
  },
  {
   "cell_type": "code",
   "execution_count": 141,
   "metadata": {},
   "outputs": [
    {
     "data": {
      "text/plain": [
       "(169240, 16)"
      ]
     },
     "execution_count": 141,
     "metadata": {},
     "output_type": "execute_result"
    }
   ],
   "source": [
    "#drop useless columns\n",
    "df = df.drop(labels=['id', 'name', 'release_date'], axis=1)\n",
    "# reomve duplicates\n",
    "df = df[~df.duplicated()==1]\n",
    "# df = df.sample(frac=0.3)\n",
    "df.shape"
   ]
  },
  {
   "cell_type": "code",
   "execution_count": 142,
   "metadata": {},
   "outputs": [
    {
     "ename": "InvocationException",
     "evalue": "GraphViz's executables not found",
     "output_type": "error",
     "traceback": [
      "\u001b[0;31m---------------------------------------------------------------------------\u001b[0m",
      "\u001b[0;31mInvocationException\u001b[0m                       Traceback (most recent call last)",
      "\u001b[0;32m<ipython-input-142-de360176cfa9>\u001b[0m in \u001b[0;36m<module>\u001b[0;34m\u001b[0m\n\u001b[1;32m     10\u001b[0m \u001b[0mexport_graphviz\u001b[0m\u001b[0;34m(\u001b[0m\u001b[0mmodel\u001b[0m\u001b[0;34m,\u001b[0m \u001b[0mout_file\u001b[0m\u001b[0;34m=\u001b[0m\u001b[0mdot\u001b[0m\u001b[0;34m)\u001b[0m\u001b[0;34m\u001b[0m\u001b[0m\n\u001b[1;32m     11\u001b[0m \u001b[0mgraph\u001b[0m \u001b[0;34m=\u001b[0m \u001b[0mpydotplus\u001b[0m\u001b[0;34m.\u001b[0m\u001b[0mgraph_from_dot_data\u001b[0m\u001b[0;34m(\u001b[0m\u001b[0mdot\u001b[0m\u001b[0;34m.\u001b[0m\u001b[0mgetvalue\u001b[0m\u001b[0;34m(\u001b[0m\u001b[0;34m)\u001b[0m\u001b[0;34m)\u001b[0m\u001b[0;34m\u001b[0m\u001b[0m\n\u001b[0;32m---> 12\u001b[0;31m \u001b[0mImage\u001b[0m\u001b[0;34m(\u001b[0m\u001b[0mgraph\u001b[0m\u001b[0;34m.\u001b[0m\u001b[0mcreate_png\u001b[0m\u001b[0;34m(\u001b[0m\u001b[0;34m)\u001b[0m\u001b[0;34m)\u001b[0m\u001b[0;34m\u001b[0m\u001b[0m\n\u001b[0m",
      "\u001b[0;32m~/Library/Python/3.7/lib/python/site-packages/pydotplus/graphviz.py\u001b[0m in \u001b[0;36m<lambda>\u001b[0;34m(f, prog)\u001b[0m\n\u001b[1;32m   1795\u001b[0m             self.__setattr__(\n\u001b[1;32m   1796\u001b[0m                 \u001b[0;34m'create_'\u001b[0m \u001b[0;34m+\u001b[0m \u001b[0mfrmt\u001b[0m\u001b[0;34m,\u001b[0m\u001b[0;34m\u001b[0m\u001b[0m\n\u001b[0;32m-> 1797\u001b[0;31m                 \u001b[0;32mlambda\u001b[0m \u001b[0mf\u001b[0m\u001b[0;34m=\u001b[0m\u001b[0mfrmt\u001b[0m\u001b[0;34m,\u001b[0m \u001b[0mprog\u001b[0m\u001b[0;34m=\u001b[0m\u001b[0mself\u001b[0m\u001b[0;34m.\u001b[0m\u001b[0mprog\u001b[0m\u001b[0;34m:\u001b[0m \u001b[0mself\u001b[0m\u001b[0;34m.\u001b[0m\u001b[0mcreate\u001b[0m\u001b[0;34m(\u001b[0m\u001b[0mformat\u001b[0m\u001b[0;34m=\u001b[0m\u001b[0mf\u001b[0m\u001b[0;34m,\u001b[0m \u001b[0mprog\u001b[0m\u001b[0;34m=\u001b[0m\u001b[0mprog\u001b[0m\u001b[0;34m)\u001b[0m\u001b[0;34m\u001b[0m\u001b[0m\n\u001b[0m\u001b[1;32m   1798\u001b[0m             )\n\u001b[1;32m   1799\u001b[0m             \u001b[0mf\u001b[0m \u001b[0;34m=\u001b[0m \u001b[0mself\u001b[0m\u001b[0;34m.\u001b[0m\u001b[0m__dict__\u001b[0m\u001b[0;34m[\u001b[0m\u001b[0;34m'create_'\u001b[0m \u001b[0;34m+\u001b[0m \u001b[0mfrmt\u001b[0m\u001b[0;34m]\u001b[0m\u001b[0;34m\u001b[0m\u001b[0m\n",
      "\u001b[0;32m~/Library/Python/3.7/lib/python/site-packages/pydotplus/graphviz.py\u001b[0m in \u001b[0;36mcreate\u001b[0;34m(self, prog, format)\u001b[0m\n\u001b[1;32m   1958\u001b[0m             \u001b[0;32mif\u001b[0m \u001b[0mself\u001b[0m\u001b[0;34m.\u001b[0m\u001b[0mprogs\u001b[0m \u001b[0;32mis\u001b[0m \u001b[0;32mNone\u001b[0m\u001b[0;34m:\u001b[0m\u001b[0;34m\u001b[0m\u001b[0m\n\u001b[1;32m   1959\u001b[0m                 raise InvocationException(\n\u001b[0;32m-> 1960\u001b[0;31m                     'GraphViz\\'s executables not found')\n\u001b[0m\u001b[1;32m   1961\u001b[0m \u001b[0;34m\u001b[0m\u001b[0m\n\u001b[1;32m   1962\u001b[0m         \u001b[0;32mif\u001b[0m \u001b[0mprog\u001b[0m \u001b[0;32mnot\u001b[0m \u001b[0;32min\u001b[0m \u001b[0mself\u001b[0m\u001b[0;34m.\u001b[0m\u001b[0mprogs\u001b[0m\u001b[0;34m:\u001b[0m\u001b[0;34m\u001b[0m\u001b[0m\n",
      "\u001b[0;31mInvocationException\u001b[0m: GraphViz's executables not found"
     ]
    }
   ],
   "source": [
    "import pydotplus\n",
    "\n",
    "X_sp = df['speechiness'].to_frame()\n",
    "y_sp = df['popularity']\n",
    "X_train, X_test, y_train, y_test = split(X_sp, y_sp , test_size = 0.2 , random_state = 42 )\n",
    "model = DecisionTreeRegressor(max_leaf_nodes=2)\n",
    "model.fit(X_train, y_train)\n",
    "\n",
    "dot = StringIO()\n",
    "export_graphviz(model, out_file=dot)\n",
    "graph = pydotplus.graph_from_dot_data(dot.getvalue())\n",
    "Image(graph.create_png())"
   ]
  },
  {
   "cell_type": "code",
   "execution_count": 143,
   "metadata": {},
   "outputs": [
    {
     "name": "stdout",
     "output_type": "stream",
     "text": [
      "RMSE_Train = 21.15\n"
     ]
    }
   ],
   "source": [
    "y_pred = model.predict(X_train)\n",
    "# rmse of train\n",
    "rmse = np.sqrt(mse(y_train, y_pred))\n",
    "print(f\"RMSE_Train = {rmse:.2f}\")"
   ]
  },
  {
   "cell_type": "code",
   "execution_count": 144,
   "metadata": {},
   "outputs": [
    {
     "name": "stdout",
     "output_type": "stream",
     "text": [
      "RMSE_test = 21.00\n"
     ]
    }
   ],
   "source": [
    "y_test_pred = model.predict(X_test)\n",
    "# rmse of test\n",
    "rmse = np.sqrt(mse(y_test, y_test_pred))\n",
    "print(f\"RMSE_test = {rmse:.2f}\")"
   ]
  },
  {
   "cell_type": "code",
   "execution_count": 145,
   "metadata": {},
   "outputs": [],
   "source": [
    "path = 'data.csv'\n",
    "df = pd.read_csv(path)\n",
    "df.head()\n",
    "\n",
    "#drop thee columns we dont need\n",
    "df = df.drop(labels=['id', 'name', 'release_date'], axis=1)\n",
    "# reomve duplicates\n",
    "df = df[~df.duplicated()==1]\n",
    "# df = df.sample(frac=0.3)\n",
    "\n",
    "#Split to train and test\n",
    "X_train, X_test, y_train, y_test = split(df.drop('popularity', axis=1), df['popularity'], test_size = 0.2, random_state = 12345)\n",
    "\n"
   ]
  },
  {
   "cell_type": "code",
   "execution_count": null,
   "metadata": {},
   "outputs": [],
   "source": []
  },
  {
   "cell_type": "code",
   "execution_count": 146,
   "metadata": {},
   "outputs": [],
   "source": [
    "class ArtistsTransformer():\n",
    "    #put artist mean popularity instead of artist name\n",
    "    #use y.mean where artist has less than min count for songs\n",
    "    # put 0 where artists haave more than max count. due to irregulaarities with data\n",
    "        #sinnce there are some artist that have no popularity with hundreds of songs\n",
    "\n",
    "    #600 is limit where artists with more than that dont count\n",
    "    #limit is to have 3 songs\n",
    "  def __init__(self, MinCnt = 3.0, MaxCnt = 600.0):\n",
    "      self.MinCount = MinCnt\n",
    "      self.MaxCount = MaxCnt\n",
    "      self.artistsDF = None\n",
    "  \n",
    "  def myTransformation(self, X, y=None):\n",
    "      X['artists'] = np.where(X['artists'].isin(self.artistsDF.index), X['artists'], 'unknown')\n",
    "    \n",
    "      X['artists'] = X['artists'].map(self.artistsDF['mean'])\n",
    "      return X\n",
    "\n",
    "  def myfit (self, X, y):\n",
    "      self.artistsDF =  y.groupby(X.artists).agg(['mean', 'count'])\n",
    "      self.artistsDF.loc['unknown'] = [y.mean(), 1]\n",
    "        \n",
    "      smaller = self.artistsDF['count'] <= self.MinCount\n",
    "      self.artistsDF.loc[smaller, 'mean'] = y.mean()\n",
    "      greater = self.artistsDF['count'] >= self.MaxCount\n",
    "      self.artistsDF.loc[greater, 'mean'] = 0\n",
    "\n",
    "      return self\n",
    "\n"
   ]
  },
  {
   "cell_type": "code",
   "execution_count": 147,
   "metadata": {},
   "outputs": [],
   "source": [
    "artists_transformer = ArtistsTransformer(MinCnt=2)\n",
    "X_train = artists_transformer.myfit(X_train, y_train).myTransformation(X_train, y_train)\n",
    "\n",
    "X_test = artists_transformer.myTransformation(X_test, y_test)"
   ]
  },
  {
   "cell_type": "code",
   "execution_count": 148,
   "metadata": {},
   "outputs": [],
   "source": [
    "class ReplaceZero():\n",
    "\n",
    "    def __init__(self, method='median'):\n",
    "        self.method = method\n",
    "\n",
    "    def mytransform(self, X):\n",
    "        if self.method == 'mean':\n",
    "            mean = X.loc[X['tempo']>0, 'tempo'].mean()\n",
    "            X.loc[X['tempo']==0, 'tempo'] = mean\n",
    "        elif self.method == 'median':\n",
    "            median = X.loc[X['tempo']>0, 'tempo'].median()\n",
    "            X.loc[X['tempo']==0, 'tempo'] = median\n",
    "        \n",
    "        else:\n",
    "            raise Exception(\"either median or mean\")\n",
    "        return X"
   ]
  },
  {
   "cell_type": "code",
   "execution_count": 149,
   "metadata": {},
   "outputs": [],
   "source": [
    "tempo_transformer = ReplaceZero()\n",
    "X_train = tempo_transformer.mytransform(X_train)\n",
    "X_test = tempo_transformer.mytransform(X_test)"
   ]
  },
  {
   "cell_type": "code",
   "execution_count": 150,
   "metadata": {},
   "outputs": [],
   "source": [
    "scaler = MinMaxScaler()\n",
    "\n",
    "cols = ['artists','duration_ms','loudness','tempo']\n",
    "#scale these columns\n",
    "X_train[cols] = scaler.fit_transform(X_train[cols])\n",
    "X_test[cols] = scaler.fit_transform(X_test[cols])"
   ]
  },
  {
   "cell_type": "code",
   "execution_count": 151,
   "metadata": {},
   "outputs": [],
   "source": [
    "y_train = y_train / 100\n",
    "y_test = y_test / 100"
   ]
  },
  {
   "cell_type": "code",
   "execution_count": 152,
   "metadata": {},
   "outputs": [
    {
     "name": "stdout",
     "output_type": "stream",
     "text": [
      "X_train shape is: (135392, 15) \n",
      "y_train shape is: (135392,) \n",
      "X_test shape is: (33848, 15) \n",
      "y_test shape is: (33848,)\n"
     ]
    }
   ],
   "source": [
    "nl = '\\n'\n",
    "print(f'X_train shape is: {X_train.shape} {nl}y_train shape is: {y_train.shape} {nl}X_test shape is: {X_test.shape} {nl}y_test shape is: {y_test.shape}')"
   ]
  },
  {
   "cell_type": "code",
   "execution_count": 153,
   "metadata": {},
   "outputs": [
    {
     "data": {
      "text/html": [
       "<div>\n",
       "<style scoped>\n",
       "    .dataframe tbody tr th:only-of-type {\n",
       "        vertical-align: middle;\n",
       "    }\n",
       "\n",
       "    .dataframe tbody tr th {\n",
       "        vertical-align: top;\n",
       "    }\n",
       "\n",
       "    .dataframe thead th {\n",
       "        text-align: right;\n",
       "    }\n",
       "</style>\n",
       "<table border=\"1\" class=\"dataframe\">\n",
       "  <thead>\n",
       "    <tr style=\"text-align: right;\">\n",
       "      <th></th>\n",
       "      <th>acousticness</th>\n",
       "      <th>artists</th>\n",
       "      <th>danceability</th>\n",
       "      <th>duration_ms</th>\n",
       "      <th>energy</th>\n",
       "      <th>explicit</th>\n",
       "      <th>instrumentalness</th>\n",
       "      <th>key</th>\n",
       "      <th>liveness</th>\n",
       "      <th>loudness</th>\n",
       "      <th>mode</th>\n",
       "      <th>speechiness</th>\n",
       "      <th>tempo</th>\n",
       "      <th>valence</th>\n",
       "      <th>year</th>\n",
       "    </tr>\n",
       "  </thead>\n",
       "  <tbody>\n",
       "    <tr>\n",
       "      <th>154587</th>\n",
       "      <td>0.965000</td>\n",
       "      <td>0.392701</td>\n",
       "      <td>0.504</td>\n",
       "      <td>0.015767</td>\n",
       "      <td>0.281</td>\n",
       "      <td>0</td>\n",
       "      <td>0.147000</td>\n",
       "      <td>1</td>\n",
       "      <td>0.109</td>\n",
       "      <td>0.690126</td>\n",
       "      <td>1</td>\n",
       "      <td>0.1190</td>\n",
       "      <td>0.752377</td>\n",
       "      <td>0.283</td>\n",
       "      <td>1951</td>\n",
       "    </tr>\n",
       "    <tr>\n",
       "      <th>151634</th>\n",
       "      <td>0.000298</td>\n",
       "      <td>0.641767</td>\n",
       "      <td>0.371</td>\n",
       "      <td>0.037618</td>\n",
       "      <td>0.819</td>\n",
       "      <td>1</td>\n",
       "      <td>0.000002</td>\n",
       "      <td>2</td>\n",
       "      <td>0.143</td>\n",
       "      <td>0.871255</td>\n",
       "      <td>1</td>\n",
       "      <td>0.0493</td>\n",
       "      <td>0.792486</td>\n",
       "      <td>0.305</td>\n",
       "      <td>2007</td>\n",
       "    </tr>\n",
       "    <tr>\n",
       "      <th>168036</th>\n",
       "      <td>0.046100</td>\n",
       "      <td>0.529796</td>\n",
       "      <td>0.623</td>\n",
       "      <td>0.049664</td>\n",
       "      <td>0.569</td>\n",
       "      <td>0</td>\n",
       "      <td>0.638000</td>\n",
       "      <td>2</td>\n",
       "      <td>0.183</td>\n",
       "      <td>0.807548</td>\n",
       "      <td>1</td>\n",
       "      <td>0.0267</td>\n",
       "      <td>0.386894</td>\n",
       "      <td>0.368</td>\n",
       "      <td>2002</td>\n",
       "    </tr>\n",
       "    <tr>\n",
       "      <th>89640</th>\n",
       "      <td>0.635000</td>\n",
       "      <td>0.202831</td>\n",
       "      <td>0.763</td>\n",
       "      <td>0.008632</td>\n",
       "      <td>0.515</td>\n",
       "      <td>0</td>\n",
       "      <td>0.033400</td>\n",
       "      <td>7</td>\n",
       "      <td>0.225</td>\n",
       "      <td>0.672712</td>\n",
       "      <td>1</td>\n",
       "      <td>0.0598</td>\n",
       "      <td>0.500563</td>\n",
       "      <td>0.983</td>\n",
       "      <td>1939</td>\n",
       "    </tr>\n",
       "    <tr>\n",
       "      <th>84532</th>\n",
       "      <td>0.520000</td>\n",
       "      <td>0.520661</td>\n",
       "      <td>0.813</td>\n",
       "      <td>0.055214</td>\n",
       "      <td>0.741</td>\n",
       "      <td>0</td>\n",
       "      <td>0.001770</td>\n",
       "      <td>7</td>\n",
       "      <td>0.246</td>\n",
       "      <td>0.850348</td>\n",
       "      <td>1</td>\n",
       "      <td>0.0504</td>\n",
       "      <td>0.304146</td>\n",
       "      <td>0.949</td>\n",
       "      <td>1985</td>\n",
       "    </tr>\n",
       "    <tr>\n",
       "      <th>44819</th>\n",
       "      <td>0.114000</td>\n",
       "      <td>0.392701</td>\n",
       "      <td>0.384</td>\n",
       "      <td>0.030693</td>\n",
       "      <td>0.324</td>\n",
       "      <td>0</td>\n",
       "      <td>0.000349</td>\n",
       "      <td>5</td>\n",
       "      <td>0.191</td>\n",
       "      <td>0.694605</td>\n",
       "      <td>0</td>\n",
       "      <td>0.0328</td>\n",
       "      <td>0.272789</td>\n",
       "      <td>0.510</td>\n",
       "      <td>1988</td>\n",
       "    </tr>\n",
       "  </tbody>\n",
       "</table>\n",
       "</div>"
      ],
      "text/plain": [
       "        acousticness   artists  danceability  duration_ms  energy  explicit  \\\n",
       "154587      0.965000  0.392701         0.504     0.015767   0.281         0   \n",
       "151634      0.000298  0.641767         0.371     0.037618   0.819         1   \n",
       "168036      0.046100  0.529796         0.623     0.049664   0.569         0   \n",
       "89640       0.635000  0.202831         0.763     0.008632   0.515         0   \n",
       "84532       0.520000  0.520661         0.813     0.055214   0.741         0   \n",
       "44819       0.114000  0.392701         0.384     0.030693   0.324         0   \n",
       "\n",
       "        instrumentalness  key  liveness  loudness  mode  speechiness  \\\n",
       "154587          0.147000    1     0.109  0.690126     1       0.1190   \n",
       "151634          0.000002    2     0.143  0.871255     1       0.0493   \n",
       "168036          0.638000    2     0.183  0.807548     1       0.0267   \n",
       "89640           0.033400    7     0.225  0.672712     1       0.0598   \n",
       "84532           0.001770    7     0.246  0.850348     1       0.0504   \n",
       "44819           0.000349    5     0.191  0.694605     0       0.0328   \n",
       "\n",
       "           tempo  valence  year  \n",
       "154587  0.752377    0.283  1951  \n",
       "151634  0.792486    0.305  2007  \n",
       "168036  0.386894    0.368  2002  \n",
       "89640   0.500563    0.983  1939  \n",
       "84532   0.304146    0.949  1985  \n",
       "44819   0.272789    0.510  1988  "
      ]
     },
     "execution_count": 153,
     "metadata": {},
     "output_type": "execute_result"
    }
   ],
   "source": [
    "X_train.head(6)"
   ]
  },
  {
   "cell_type": "code",
   "execution_count": 154,
   "metadata": {},
   "outputs": [],
   "source": [
    "rmse3_trainer, rmse3_tester = [], []\n",
    "\n",
    "for i in range(2,200):\n",
    "  tree = DecisionTreeRegressor(random_state = 15, max_leaf_nodes=i)\n",
    "\n",
    "  tree.fit(X_train, y_train)\n",
    "  y_train_predicted = tree.predict(X_train).clip(0, 1)\n",
    "  train_rmse = np.sqrt(mse(y_train, y_train_predicted))\n",
    "  rmse3_trainer.append(train_rmse.round(3))\n",
    "  y_test_predicted = tree.predict(X_test).clip(0, 1)\n",
    "  test_rmse = np.sqrt(mse(y_test, y_test_predicted))\n",
    "  rmse3_tester.append(test_rmse.round(3))"
   ]
  },
  {
   "cell_type": "code",
   "execution_count": 155,
   "metadata": {},
   "outputs": [
    {
     "data": {
      "image/png": "[encoded data removed]",
      "text/plain": [
       "<Figure size 1080x288 with 1 Axes>"
      ]
     },
     "metadata": {
      "needs_background": "light"
     },
     "output_type": "display_data"
    }
   ],
   "source": [
    "fig, ax = plt.subplots(figsize=(15,4))\n",
    "x = np.arange(2, 200)\n",
    "\n",
    "ax = sns.lineplot(x=x, y=rmse3_trainer)\n",
    "sns.lineplot(x=x, y=rmse3_tester, ax=ax)\n",
    "\n",
    "ax.axvline(x=178, ymin=0, ymax=0.3, color='blue')\n",
    "# ax.axvline(x=139, ymin=0.5, ymax=0.8, color='orange')\n",
    "ax.legend(labels=['RMSE_train', 'RMSE_test'], bbox_to_anchor=(1, 1))\n",
    "ax.set_xlabel('Max leaf nodes')\n",
    "\n",
    "ax.set_ylabel('rmse')\n",
    "ax.set_title('DT 2<= max leafs < 200', c='r', fontdict={'c':'r', 'fontsize':14, 'weight':'bold'})\n",
    "plt.show()"
   ]
  },
  {
   "cell_type": "code",
   "execution_count": 156,
   "metadata": {},
   "outputs": [
    {
     "data": {
      "image/png": "[encoded data removed]",
      "text/plain": [
       "<Figure size 432x288 with 1 Axes>"
      ]
     },
     "metadata": {
      "needs_background": "light"
     },
     "output_type": "display_data"
    }
   ],
   "source": [
    "ax = sns.scatterplot(x=y_train, y=y_train_predicted)\n",
    "ax.plot(y_train, y_train, 'r')\n",
    "ax.set_ylabel('the popularity prediction')\n",
    "plt.show()"
   ]
  },
  {
   "cell_type": "code",
   "execution_count": 157,
   "metadata": {},
   "outputs": [],
   "source": [
    "\n",
    "from sklearn import metrics\n"
   ]
  },
  {
   "cell_type": "code",
   "execution_count": 158,
   "metadata": {},
   "outputs": [
    {
     "name": "stdout",
     "output_type": "stream",
     "text": [
      "Root MSE: 0.0807224956903878\n"
     ]
    }
   ],
   "source": [
    "print('Root MSE:', np.sqrt(metrics.mean_squared_error(y_train, y_train_predicted)))"
   ]
  },
  {
   "cell_type": "code",
   "execution_count": null,
   "metadata": {},
   "outputs": [],
   "source": []
  }
 ],
 "metadata": {
  "kernelspec": {
   "display_name": "Python 3",
   "language": "python",
   "name": "python3"
  },
  "language_info": {
   "codemirror_mode": {
    "name": "ipython",
    "version": 3
   },
   "file_extension": ".py",
   "mimetype": "text/x-python",
   "name": "python",
   "nbconvert_exporter": "python",
   "pygments_lexer": "ipython3",
   "version": "3.7.0"
  }
 },
 "nbformat": 4,
 "nbformat_minor": 4
}
